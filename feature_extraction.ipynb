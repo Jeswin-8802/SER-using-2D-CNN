{
 "cells": [
  {
   "cell_type": "code",
   "execution_count": 1,
   "metadata": {},
   "outputs": [],
   "source": [
    "# importing necessary modules\n",
    "\n",
    "import custom_util as util\n",
    "\n",
    "import pandas as pd\n",
    "import numpy as np"
   ]
  },
  {
   "cell_type": "code",
   "execution_count": 2,
   "metadata": {},
   "outputs": [
    {
     "data": {
      "text/html": [
       "<div>\n",
       "<style scoped>\n",
       "    .dataframe tbody tr th:only-of-type {\n",
       "        vertical-align: middle;\n",
       "    }\n",
       "\n",
       "    .dataframe tbody tr th {\n",
       "        vertical-align: top;\n",
       "    }\n",
       "\n",
       "    .dataframe thead th {\n",
       "        text-align: right;\n",
       "    }\n",
       "</style>\n",
       "<table border=\"1\" class=\"dataframe\">\n",
       "  <thead>\n",
       "    <tr style=\"text-align: right;\">\n",
       "      <th></th>\n",
       "      <th>Emotions</th>\n",
       "      <th>Path</th>\n",
       "    </tr>\n",
       "  </thead>\n",
       "  <tbody>\n",
       "    <tr>\n",
       "      <th>0</th>\n",
       "      <td>angry</td>\n",
       "      <td>c:\\ser\\crema\\AudioWAV\\1001_DFA_ANG_XX.wav</td>\n",
       "    </tr>\n",
       "    <tr>\n",
       "      <th>1</th>\n",
       "      <td>disgust</td>\n",
       "      <td>c:\\ser\\crema\\AudioWAV\\1001_DFA_DIS_XX.wav</td>\n",
       "    </tr>\n",
       "    <tr>\n",
       "      <th>2</th>\n",
       "      <td>fear</td>\n",
       "      <td>c:\\ser\\crema\\AudioWAV\\1001_DFA_FEA_XX.wav</td>\n",
       "    </tr>\n",
       "    <tr>\n",
       "      <th>3</th>\n",
       "      <td>happy</td>\n",
       "      <td>c:\\ser\\crema\\AudioWAV\\1001_DFA_HAP_XX.wav</td>\n",
       "    </tr>\n",
       "    <tr>\n",
       "      <th>4</th>\n",
       "      <td>neutral</td>\n",
       "      <td>c:\\ser\\crema\\AudioWAV\\1001_DFA_NEU_XX.wav</td>\n",
       "    </tr>\n",
       "    <tr>\n",
       "      <th>...</th>\n",
       "      <td>...</td>\n",
       "      <td>...</td>\n",
       "    </tr>\n",
       "    <tr>\n",
       "      <th>12157</th>\n",
       "      <td>surprise</td>\n",
       "      <td>c:\\ser\\surrey\\ALL\\KL_su11.wav</td>\n",
       "    </tr>\n",
       "    <tr>\n",
       "      <th>12158</th>\n",
       "      <td>surprise</td>\n",
       "      <td>c:\\ser\\surrey\\ALL\\KL_su12.wav</td>\n",
       "    </tr>\n",
       "    <tr>\n",
       "      <th>12159</th>\n",
       "      <td>surprise</td>\n",
       "      <td>c:\\ser\\surrey\\ALL\\KL_su13.wav</td>\n",
       "    </tr>\n",
       "    <tr>\n",
       "      <th>12160</th>\n",
       "      <td>surprise</td>\n",
       "      <td>c:\\ser\\surrey\\ALL\\KL_su14.wav</td>\n",
       "    </tr>\n",
       "    <tr>\n",
       "      <th>12161</th>\n",
       "      <td>surprise</td>\n",
       "      <td>c:\\ser\\surrey\\ALL\\KL_su15.wav</td>\n",
       "    </tr>\n",
       "  </tbody>\n",
       "</table>\n",
       "<p>12162 rows × 2 columns</p>\n",
       "</div>"
      ],
      "text/plain": [
       "       Emotions                                       Path\n",
       "0         angry  c:\\ser\\crema\\AudioWAV\\1001_DFA_ANG_XX.wav\n",
       "1       disgust  c:\\ser\\crema\\AudioWAV\\1001_DFA_DIS_XX.wav\n",
       "2          fear  c:\\ser\\crema\\AudioWAV\\1001_DFA_FEA_XX.wav\n",
       "3         happy  c:\\ser\\crema\\AudioWAV\\1001_DFA_HAP_XX.wav\n",
       "4       neutral  c:\\ser\\crema\\AudioWAV\\1001_DFA_NEU_XX.wav\n",
       "...         ...                                        ...\n",
       "12157  surprise              c:\\ser\\surrey\\ALL\\KL_su11.wav\n",
       "12158  surprise              c:\\ser\\surrey\\ALL\\KL_su12.wav\n",
       "12159  surprise              c:\\ser\\surrey\\ALL\\KL_su13.wav\n",
       "12160  surprise              c:\\ser\\surrey\\ALL\\KL_su14.wav\n",
       "12161  surprise              c:\\ser\\surrey\\ALL\\KL_su15.wav\n",
       "\n",
       "[12162 rows x 2 columns]"
      ]
     },
     "execution_count": 2,
     "metadata": {},
     "output_type": "execute_result"
    }
   ],
   "source": [
    "data_path = pd.read_csv('data_path.csv')\n",
    "data_path"
   ]
  },
  {
   "cell_type": "code",
   "execution_count": 4,
   "metadata": {},
   "outputs": [
    {
     "name": "stderr",
     "output_type": "stream",
     "text": [
      "c:\\Users\\Nathaniel\\AppData\\Local\\Programs\\Python\\Python39\\lib\\site-packages\\librosa\\util\\decorators.py:88: UserWarning: n_fft=1024 is too small for input signal of length=840\n",
      "  return f(*args, **kwargs)\n"
     ]
    },
    {
     "ename": "KeyboardInterrupt",
     "evalue": "",
     "output_type": "error",
     "traceback": [
      "\u001b[1;31m---------------------------------------------------------------------------\u001b[0m",
      "\u001b[1;31mKeyboardInterrupt\u001b[0m                         Traceback (most recent call last)",
      "Cell \u001b[1;32mIn [4], line 3\u001b[0m\n\u001b[0;32m      1\u001b[0m X, Y \u001b[39m=\u001b[39m [], []\n\u001b[0;32m      2\u001b[0m \u001b[39mfor\u001b[39;00m path, emotion \u001b[39min\u001b[39;00m \u001b[39mzip\u001b[39m(data_path\u001b[39m.\u001b[39mPath, data_path\u001b[39m.\u001b[39mEmotions):\n\u001b[1;32m----> 3\u001b[0m     feature \u001b[39m=\u001b[39m util\u001b[39m.\u001b[39;49mget_features(path)\n\u001b[0;32m      4\u001b[0m     \u001b[39mfor\u001b[39;00m ele \u001b[39min\u001b[39;00m feature:\n\u001b[0;32m      5\u001b[0m        X\u001b[39m.\u001b[39mappend(ele)\n",
      "File \u001b[1;32mc:\\ser\\major-project\\custom_util.py:89\u001b[0m, in \u001b[0;36mget_features\u001b[1;34m(path)\u001b[0m\n\u001b[0;32m     86\u001b[0m data, sample_rate \u001b[39m=\u001b[39m librosa\u001b[39m.\u001b[39mload(path)\n\u001b[0;32m     88\u001b[0m \u001b[39m# without augmentation\u001b[39;00m\n\u001b[1;32m---> 89\u001b[0m res1 \u001b[39m=\u001b[39m extract_features(data, sample_rate)\n\u001b[0;32m     90\u001b[0m result \u001b[39m=\u001b[39m np\u001b[39m.\u001b[39marray(res1)\n\u001b[0;32m     92\u001b[0m \u001b[39m# data with noise\u001b[39;00m\n",
      "File \u001b[1;32mc:\\ser\\major-project\\custom_util.py:140\u001b[0m, in \u001b[0;36mextract_features\u001b[1;34m(data, sample_rate)\u001b[0m\n\u001b[0;32m    129\u001b[0m result \u001b[39m=\u001b[39m np\u001b[39m.\u001b[39mhstack((result, mel))  \u001b[39m# stacking horizontally\u001b[39;00m\n\u001b[0;32m    131\u001b[0m \u001b[39m# # spectral centroid\u001b[39;00m\n\u001b[0;32m    132\u001b[0m \u001b[39m# spectral_centroid = np.mean(librosa.feature.spectral_centroid(y=data, sr=sample_rate))\u001b[39;00m\n\u001b[0;32m    133\u001b[0m \u001b[39m# result = np.hstack((result, spectral_centroid))\u001b[39;00m\n\u001b[1;32m   (...)\u001b[0m\n\u001b[0;32m    138\u001b[0m \n\u001b[0;32m    139\u001b[0m \u001b[39m# tonnetz\u001b[39;00m\n\u001b[1;32m--> 140\u001b[0m tonnetz \u001b[39m=\u001b[39m np\u001b[39m.\u001b[39mmean(librosa\u001b[39m.\u001b[39;49mfeature\u001b[39m.\u001b[39;49mtonnetz(y\u001b[39m=\u001b[39;49mdata, sr\u001b[39m=\u001b[39;49msample_rate), axis\u001b[39m=\u001b[39m\u001b[39m1\u001b[39m)\n\u001b[0;32m    141\u001b[0m result \u001b[39m=\u001b[39m np\u001b[39m.\u001b[39mhstack((result, tonnetz))\n\u001b[0;32m    143\u001b[0m \u001b[39mreturn\u001b[39;00m result\n",
      "File \u001b[1;32mc:\\Users\\Nathaniel\\AppData\\Local\\Programs\\Python\\Python39\\lib\\site-packages\\librosa\\util\\decorators.py:88\u001b[0m, in \u001b[0;36mdeprecate_positional_args.<locals>._inner_deprecate_positional_args.<locals>.inner_f\u001b[1;34m(*args, **kwargs)\u001b[0m\n\u001b[0;32m     86\u001b[0m extra_args \u001b[39m=\u001b[39m \u001b[39mlen\u001b[39m(args) \u001b[39m-\u001b[39m \u001b[39mlen\u001b[39m(all_args)\n\u001b[0;32m     87\u001b[0m \u001b[39mif\u001b[39;00m extra_args \u001b[39m<\u001b[39m\u001b[39m=\u001b[39m \u001b[39m0\u001b[39m:\n\u001b[1;32m---> 88\u001b[0m     \u001b[39mreturn\u001b[39;00m f(\u001b[39m*\u001b[39margs, \u001b[39m*\u001b[39m\u001b[39m*\u001b[39mkwargs)\n\u001b[0;32m     90\u001b[0m \u001b[39m# extra_args > 0\u001b[39;00m\n\u001b[0;32m     91\u001b[0m args_msg \u001b[39m=\u001b[39m [\n\u001b[0;32m     92\u001b[0m     \u001b[39m\"\u001b[39m\u001b[39m{}\u001b[39;00m\u001b[39m=\u001b[39m\u001b[39m{}\u001b[39;00m\u001b[39m\"\u001b[39m\u001b[39m.\u001b[39mformat(name, arg)\n\u001b[0;32m     93\u001b[0m     \u001b[39mfor\u001b[39;00m name, arg \u001b[39min\u001b[39;00m \u001b[39mzip\u001b[39m(kwonly_args[:extra_args], args[\u001b[39m-\u001b[39mextra_args:])\n\u001b[0;32m     94\u001b[0m ]\n",
      "File \u001b[1;32mc:\\Users\\Nathaniel\\AppData\\Local\\Programs\\Python\\Python39\\lib\\site-packages\\librosa\\feature\\spectral.py:1757\u001b[0m, in \u001b[0;36mtonnetz\u001b[1;34m(y, sr, chroma, **kwargs)\u001b[0m\n\u001b[0;32m   1751\u001b[0m     \u001b[39mraise\u001b[39;00m ParameterError(\n\u001b[0;32m   1752\u001b[0m         \u001b[39m\"\u001b[39m\u001b[39mEither the audio samples or the chromagram must be \u001b[39m\u001b[39m\"\u001b[39m\n\u001b[0;32m   1753\u001b[0m         \u001b[39m\"\u001b[39m\u001b[39mpassed as an argument.\u001b[39m\u001b[39m\"\u001b[39m\n\u001b[0;32m   1754\u001b[0m     )\n\u001b[0;32m   1756\u001b[0m \u001b[39mif\u001b[39;00m chroma \u001b[39mis\u001b[39;00m \u001b[39mNone\u001b[39;00m:\n\u001b[1;32m-> 1757\u001b[0m     chroma \u001b[39m=\u001b[39m chroma_cqt(y\u001b[39m=\u001b[39my, sr\u001b[39m=\u001b[39msr, \u001b[39m*\u001b[39m\u001b[39m*\u001b[39mkwargs)\n\u001b[0;32m   1759\u001b[0m \u001b[39m# Generate Transformation matrix\u001b[39;00m\n\u001b[0;32m   1760\u001b[0m dim_map \u001b[39m=\u001b[39m np\u001b[39m.\u001b[39mlinspace(\u001b[39m0\u001b[39m, \u001b[39m12\u001b[39m, num\u001b[39m=\u001b[39mchroma\u001b[39m.\u001b[39mshape[\u001b[39m-\u001b[39m\u001b[39m2\u001b[39m], endpoint\u001b[39m=\u001b[39m\u001b[39mFalse\u001b[39;00m)\n",
      "File \u001b[1;32mc:\\Users\\Nathaniel\\AppData\\Local\\Programs\\Python\\Python39\\lib\\site-packages\\librosa\\util\\decorators.py:88\u001b[0m, in \u001b[0;36mdeprecate_positional_args.<locals>._inner_deprecate_positional_args.<locals>.inner_f\u001b[1;34m(*args, **kwargs)\u001b[0m\n\u001b[0;32m     86\u001b[0m extra_args \u001b[39m=\u001b[39m \u001b[39mlen\u001b[39m(args) \u001b[39m-\u001b[39m \u001b[39mlen\u001b[39m(all_args)\n\u001b[0;32m     87\u001b[0m \u001b[39mif\u001b[39;00m extra_args \u001b[39m<\u001b[39m\u001b[39m=\u001b[39m \u001b[39m0\u001b[39m:\n\u001b[1;32m---> 88\u001b[0m     \u001b[39mreturn\u001b[39;00m f(\u001b[39m*\u001b[39margs, \u001b[39m*\u001b[39m\u001b[39m*\u001b[39mkwargs)\n\u001b[0;32m     90\u001b[0m \u001b[39m# extra_args > 0\u001b[39;00m\n\u001b[0;32m     91\u001b[0m args_msg \u001b[39m=\u001b[39m [\n\u001b[0;32m     92\u001b[0m     \u001b[39m\"\u001b[39m\u001b[39m{}\u001b[39;00m\u001b[39m=\u001b[39m\u001b[39m{}\u001b[39;00m\u001b[39m\"\u001b[39m\u001b[39m.\u001b[39mformat(name, arg)\n\u001b[0;32m     93\u001b[0m     \u001b[39mfor\u001b[39;00m name, arg \u001b[39min\u001b[39;00m \u001b[39mzip\u001b[39m(kwonly_args[:extra_args], args[\u001b[39m-\u001b[39mextra_args:])\n\u001b[0;32m     94\u001b[0m ]\n",
      "File \u001b[1;32mc:\\Users\\Nathaniel\\AppData\\Local\\Programs\\Python\\Python39\\lib\\site-packages\\librosa\\feature\\spectral.py:1475\u001b[0m, in \u001b[0;36mchroma_cqt\u001b[1;34m(y, sr, C, hop_length, fmin, norm, threshold, tuning, n_chroma, n_octaves, window, bins_per_octave, cqt_mode)\u001b[0m\n\u001b[0;32m   1472\u001b[0m \u001b[39m# Build the CQT if we don't have one already\u001b[39;00m\n\u001b[0;32m   1473\u001b[0m \u001b[39mif\u001b[39;00m C \u001b[39mis\u001b[39;00m \u001b[39mNone\u001b[39;00m:\n\u001b[0;32m   1474\u001b[0m     C \u001b[39m=\u001b[39m np\u001b[39m.\u001b[39mabs(\n\u001b[1;32m-> 1475\u001b[0m         cqt_func[cqt_mode](\n\u001b[0;32m   1476\u001b[0m             y,\n\u001b[0;32m   1477\u001b[0m             sr\u001b[39m=\u001b[39;49msr,\n\u001b[0;32m   1478\u001b[0m             hop_length\u001b[39m=\u001b[39;49mhop_length,\n\u001b[0;32m   1479\u001b[0m             fmin\u001b[39m=\u001b[39;49mfmin,\n\u001b[0;32m   1480\u001b[0m             n_bins\u001b[39m=\u001b[39;49mn_octaves \u001b[39m*\u001b[39;49m bins_per_octave,\n\u001b[0;32m   1481\u001b[0m             bins_per_octave\u001b[39m=\u001b[39;49mbins_per_octave,\n\u001b[0;32m   1482\u001b[0m             tuning\u001b[39m=\u001b[39;49mtuning,\n\u001b[0;32m   1483\u001b[0m         )\n\u001b[0;32m   1484\u001b[0m     )\n\u001b[0;32m   1486\u001b[0m \u001b[39m# Map to chroma\u001b[39;00m\n\u001b[0;32m   1487\u001b[0m cq_to_chr \u001b[39m=\u001b[39m filters\u001b[39m.\u001b[39mcq_to_chroma(\n\u001b[0;32m   1488\u001b[0m     C\u001b[39m.\u001b[39mshape[\u001b[39m-\u001b[39m\u001b[39m2\u001b[39m],\n\u001b[0;32m   1489\u001b[0m     bins_per_octave\u001b[39m=\u001b[39mbins_per_octave,\n\u001b[1;32m   (...)\u001b[0m\n\u001b[0;32m   1492\u001b[0m     window\u001b[39m=\u001b[39mwindow,\n\u001b[0;32m   1493\u001b[0m )\n",
      "File \u001b[1;32mc:\\Users\\Nathaniel\\AppData\\Local\\Programs\\Python\\Python39\\lib\\site-packages\\librosa\\util\\decorators.py:88\u001b[0m, in \u001b[0;36mdeprecate_positional_args.<locals>._inner_deprecate_positional_args.<locals>.inner_f\u001b[1;34m(*args, **kwargs)\u001b[0m\n\u001b[0;32m     86\u001b[0m extra_args \u001b[39m=\u001b[39m \u001b[39mlen\u001b[39m(args) \u001b[39m-\u001b[39m \u001b[39mlen\u001b[39m(all_args)\n\u001b[0;32m     87\u001b[0m \u001b[39mif\u001b[39;00m extra_args \u001b[39m<\u001b[39m\u001b[39m=\u001b[39m \u001b[39m0\u001b[39m:\n\u001b[1;32m---> 88\u001b[0m     \u001b[39mreturn\u001b[39;00m f(\u001b[39m*\u001b[39margs, \u001b[39m*\u001b[39m\u001b[39m*\u001b[39mkwargs)\n\u001b[0;32m     90\u001b[0m \u001b[39m# extra_args > 0\u001b[39;00m\n\u001b[0;32m     91\u001b[0m args_msg \u001b[39m=\u001b[39m [\n\u001b[0;32m     92\u001b[0m     \u001b[39m\"\u001b[39m\u001b[39m{}\u001b[39;00m\u001b[39m=\u001b[39m\u001b[39m{}\u001b[39;00m\u001b[39m\"\u001b[39m\u001b[39m.\u001b[39mformat(name, arg)\n\u001b[0;32m     93\u001b[0m     \u001b[39mfor\u001b[39;00m name, arg \u001b[39min\u001b[39;00m \u001b[39mzip\u001b[39m(kwonly_args[:extra_args], args[\u001b[39m-\u001b[39mextra_args:])\n\u001b[0;32m     94\u001b[0m ]\n",
      "File \u001b[1;32mc:\\Users\\Nathaniel\\AppData\\Local\\Programs\\Python\\Python39\\lib\\site-packages\\librosa\\core\\constantq.py:178\u001b[0m, in \u001b[0;36mcqt\u001b[1;34m(y, sr, hop_length, fmin, n_bins, bins_per_octave, tuning, filter_scale, norm, sparsity, window, scale, pad_mode, res_type, dtype)\u001b[0m\n\u001b[0;32m     44\u001b[0m \u001b[39m\"\"\"Compute the constant-Q transform of an audio signal.\u001b[39;00m\n\u001b[0;32m     45\u001b[0m \n\u001b[0;32m     46\u001b[0m \u001b[39mThis implementation is based on the recursive sub-sampling method\u001b[39;00m\n\u001b[1;32m   (...)\u001b[0m\n\u001b[0;32m    174\u001b[0m \u001b[39m       [5.147e-02, 6.959e-02, ..., 1.694e-05, 5.811e-06]])\u001b[39;00m\n\u001b[0;32m    175\u001b[0m \u001b[39m\"\"\"\u001b[39;00m\n\u001b[0;32m    177\u001b[0m \u001b[39m# CQT is the special case of VQT with gamma=0\u001b[39;00m\n\u001b[1;32m--> 178\u001b[0m \u001b[39mreturn\u001b[39;00m vqt(\n\u001b[0;32m    179\u001b[0m     y\u001b[39m=\u001b[39;49my,\n\u001b[0;32m    180\u001b[0m     sr\u001b[39m=\u001b[39;49msr,\n\u001b[0;32m    181\u001b[0m     hop_length\u001b[39m=\u001b[39;49mhop_length,\n\u001b[0;32m    182\u001b[0m     fmin\u001b[39m=\u001b[39;49mfmin,\n\u001b[0;32m    183\u001b[0m     n_bins\u001b[39m=\u001b[39;49mn_bins,\n\u001b[0;32m    184\u001b[0m     gamma\u001b[39m=\u001b[39;49m\u001b[39m0\u001b[39;49m,\n\u001b[0;32m    185\u001b[0m     bins_per_octave\u001b[39m=\u001b[39;49mbins_per_octave,\n\u001b[0;32m    186\u001b[0m     tuning\u001b[39m=\u001b[39;49mtuning,\n\u001b[0;32m    187\u001b[0m     filter_scale\u001b[39m=\u001b[39;49mfilter_scale,\n\u001b[0;32m    188\u001b[0m     norm\u001b[39m=\u001b[39;49mnorm,\n\u001b[0;32m    189\u001b[0m     sparsity\u001b[39m=\u001b[39;49msparsity,\n\u001b[0;32m    190\u001b[0m     window\u001b[39m=\u001b[39;49mwindow,\n\u001b[0;32m    191\u001b[0m     scale\u001b[39m=\u001b[39;49mscale,\n\u001b[0;32m    192\u001b[0m     pad_mode\u001b[39m=\u001b[39;49mpad_mode,\n\u001b[0;32m    193\u001b[0m     res_type\u001b[39m=\u001b[39;49mres_type,\n\u001b[0;32m    194\u001b[0m     dtype\u001b[39m=\u001b[39;49mdtype,\n\u001b[0;32m    195\u001b[0m )\n",
      "File \u001b[1;32mc:\\Users\\Nathaniel\\AppData\\Local\\Programs\\Python\\Python39\\lib\\site-packages\\librosa\\util\\decorators.py:88\u001b[0m, in \u001b[0;36mdeprecate_positional_args.<locals>._inner_deprecate_positional_args.<locals>.inner_f\u001b[1;34m(*args, **kwargs)\u001b[0m\n\u001b[0;32m     86\u001b[0m extra_args \u001b[39m=\u001b[39m \u001b[39mlen\u001b[39m(args) \u001b[39m-\u001b[39m \u001b[39mlen\u001b[39m(all_args)\n\u001b[0;32m     87\u001b[0m \u001b[39mif\u001b[39;00m extra_args \u001b[39m<\u001b[39m\u001b[39m=\u001b[39m \u001b[39m0\u001b[39m:\n\u001b[1;32m---> 88\u001b[0m     \u001b[39mreturn\u001b[39;00m f(\u001b[39m*\u001b[39margs, \u001b[39m*\u001b[39m\u001b[39m*\u001b[39mkwargs)\n\u001b[0;32m     90\u001b[0m \u001b[39m# extra_args > 0\u001b[39;00m\n\u001b[0;32m     91\u001b[0m args_msg \u001b[39m=\u001b[39m [\n\u001b[0;32m     92\u001b[0m     \u001b[39m\"\u001b[39m\u001b[39m{}\u001b[39;00m\u001b[39m=\u001b[39m\u001b[39m{}\u001b[39;00m\u001b[39m\"\u001b[39m\u001b[39m.\u001b[39mformat(name, arg)\n\u001b[0;32m     93\u001b[0m     \u001b[39mfor\u001b[39;00m name, arg \u001b[39min\u001b[39;00m \u001b[39mzip\u001b[39m(kwonly_args[:extra_args], args[\u001b[39m-\u001b[39mextra_args:])\n\u001b[0;32m     94\u001b[0m ]\n",
      "File \u001b[1;32mc:\\Users\\Nathaniel\\AppData\\Local\\Programs\\Python\\Python39\\lib\\site-packages\\librosa\\core\\constantq.py:1022\u001b[0m, in \u001b[0;36mvqt\u001b[1;34m(y, sr, hop_length, fmin, n_bins, gamma, bins_per_octave, tuning, filter_scale, norm, sparsity, window, scale, pad_mode, res_type, dtype)\u001b[0m\n\u001b[0;32m   1019\u001b[0m \u001b[39m# This may be incorrect with early downsampling\u001b[39;00m\n\u001b[0;32m   1020\u001b[0m freqs_oct \u001b[39m=\u001b[39m freqs[sl]\n\u001b[1;32m-> 1022\u001b[0m fft_basis, n_fft, _ \u001b[39m=\u001b[39m __vqt_filter_fft(\n\u001b[0;32m   1023\u001b[0m     my_sr,\n\u001b[0;32m   1024\u001b[0m     freqs_oct,\n\u001b[0;32m   1025\u001b[0m     filter_scale,\n\u001b[0;32m   1026\u001b[0m     norm,\n\u001b[0;32m   1027\u001b[0m     sparsity,\n\u001b[0;32m   1028\u001b[0m     window\u001b[39m=\u001b[39;49mwindow,\n\u001b[0;32m   1029\u001b[0m     gamma\u001b[39m=\u001b[39;49mgamma,\n\u001b[0;32m   1030\u001b[0m     dtype\u001b[39m=\u001b[39;49mdtype,\n\u001b[0;32m   1031\u001b[0m     alpha\u001b[39m=\u001b[39;49malpha,\n\u001b[0;32m   1032\u001b[0m )\n\u001b[0;32m   1034\u001b[0m \u001b[39m# Re-scale the filters to compensate for downsampling\u001b[39;00m\n\u001b[0;32m   1035\u001b[0m fft_basis[:] \u001b[39m*\u001b[39m\u001b[39m=\u001b[39m np\u001b[39m.\u001b[39msqrt(sr \u001b[39m/\u001b[39m my_sr)\n",
      "File \u001b[1;32mc:\\Users\\Nathaniel\\AppData\\Local\\Programs\\Python\\Python39\\lib\\site-packages\\librosa\\core\\constantq.py:1085\u001b[0m, in \u001b[0;36m__vqt_filter_fft\u001b[1;34m(sr, freqs, filter_scale, norm, sparsity, hop_length, window, gamma, dtype, alpha)\u001b[0m\n\u001b[0;32m   1070\u001b[0m \u001b[39m@cache\u001b[39m(level\u001b[39m=\u001b[39m\u001b[39m10\u001b[39m)\n\u001b[0;32m   1071\u001b[0m \u001b[39mdef\u001b[39;00m \u001b[39m__vqt_filter_fft\u001b[39m(\n\u001b[0;32m   1072\u001b[0m     sr,\n\u001b[1;32m   (...)\u001b[0m\n\u001b[0;32m   1081\u001b[0m     alpha\u001b[39m=\u001b[39m\u001b[39mNone\u001b[39;00m,\n\u001b[0;32m   1082\u001b[0m ):\n\u001b[0;32m   1083\u001b[0m     \u001b[39m\"\"\"Generate the frequency domain variable-Q filter basis.\"\"\"\u001b[39;00m\n\u001b[1;32m-> 1085\u001b[0m     basis, lengths \u001b[39m=\u001b[39m filters\u001b[39m.\u001b[39;49mwavelet(\n\u001b[0;32m   1086\u001b[0m         freqs\u001b[39m=\u001b[39;49mfreqs,\n\u001b[0;32m   1087\u001b[0m         sr\u001b[39m=\u001b[39;49msr,\n\u001b[0;32m   1088\u001b[0m         filter_scale\u001b[39m=\u001b[39;49mfilter_scale,\n\u001b[0;32m   1089\u001b[0m         norm\u001b[39m=\u001b[39;49mnorm,\n\u001b[0;32m   1090\u001b[0m         pad_fft\u001b[39m=\u001b[39;49m\u001b[39mTrue\u001b[39;49;00m,\n\u001b[0;32m   1091\u001b[0m         window\u001b[39m=\u001b[39;49mwindow,\n\u001b[0;32m   1092\u001b[0m         gamma\u001b[39m=\u001b[39;49mgamma,\n\u001b[0;32m   1093\u001b[0m         alpha\u001b[39m=\u001b[39;49malpha,\n\u001b[0;32m   1094\u001b[0m     )\n\u001b[0;32m   1096\u001b[0m     \u001b[39m# Filters are padded up to the nearest integral power of 2\u001b[39;00m\n\u001b[0;32m   1097\u001b[0m     n_fft \u001b[39m=\u001b[39m basis\u001b[39m.\u001b[39mshape[\u001b[39m1\u001b[39m]\n",
      "File \u001b[1;32mc:\\Users\\Nathaniel\\AppData\\Local\\Programs\\Python\\Python39\\lib\\site-packages\\librosa\\util\\decorators.py:88\u001b[0m, in \u001b[0;36mdeprecate_positional_args.<locals>._inner_deprecate_positional_args.<locals>.inner_f\u001b[1;34m(*args, **kwargs)\u001b[0m\n\u001b[0;32m     86\u001b[0m extra_args \u001b[39m=\u001b[39m \u001b[39mlen\u001b[39m(args) \u001b[39m-\u001b[39m \u001b[39mlen\u001b[39m(all_args)\n\u001b[0;32m     87\u001b[0m \u001b[39mif\u001b[39;00m extra_args \u001b[39m<\u001b[39m\u001b[39m=\u001b[39m \u001b[39m0\u001b[39m:\n\u001b[1;32m---> 88\u001b[0m     \u001b[39mreturn\u001b[39;00m f(\u001b[39m*\u001b[39margs, \u001b[39m*\u001b[39m\u001b[39m*\u001b[39mkwargs)\n\u001b[0;32m     90\u001b[0m \u001b[39m# extra_args > 0\u001b[39;00m\n\u001b[0;32m     91\u001b[0m args_msg \u001b[39m=\u001b[39m [\n\u001b[0;32m     92\u001b[0m     \u001b[39m\"\u001b[39m\u001b[39m{}\u001b[39;00m\u001b[39m=\u001b[39m\u001b[39m{}\u001b[39;00m\u001b[39m\"\u001b[39m\u001b[39m.\u001b[39mformat(name, arg)\n\u001b[0;32m     93\u001b[0m     \u001b[39mfor\u001b[39;00m name, arg \u001b[39min\u001b[39;00m \u001b[39mzip\u001b[39m(kwonly_args[:extra_args], args[\u001b[39m-\u001b[39mextra_args:])\n\u001b[0;32m     94\u001b[0m ]\n",
      "File \u001b[1;32mc:\\Users\\Nathaniel\\AppData\\Local\\Programs\\Python\\Python39\\lib\\site-packages\\librosa\\filters.py:941\u001b[0m, in \u001b[0;36mwavelet\u001b[1;34m(freqs, sr, window, filter_scale, pad_fft, norm, dtype, gamma, alpha, **kwargs)\u001b[0m\n\u001b[0;32m    936\u001b[0m sig \u001b[39m=\u001b[39m np\u001b[39m.\u001b[39mexp(\n\u001b[0;32m    937\u001b[0m     np\u001b[39m.\u001b[39marange(\u001b[39m-\u001b[39milen \u001b[39m/\u001b[39m\u001b[39m/\u001b[39m \u001b[39m2\u001b[39m, ilen \u001b[39m/\u001b[39m\u001b[39m/\u001b[39m \u001b[39m2\u001b[39m, dtype\u001b[39m=\u001b[39m\u001b[39mfloat\u001b[39m) \u001b[39m*\u001b[39m \u001b[39m1\u001b[39mj \u001b[39m*\u001b[39m \u001b[39m2\u001b[39m \u001b[39m*\u001b[39m np\u001b[39m.\u001b[39mpi \u001b[39m*\u001b[39m freq \u001b[39m/\u001b[39m sr\n\u001b[0;32m    938\u001b[0m )\n\u001b[0;32m    940\u001b[0m \u001b[39m# Apply the windowing function\u001b[39;00m\n\u001b[1;32m--> 941\u001b[0m sig \u001b[39m*\u001b[39m\u001b[39m=\u001b[39m __float_window(window)(\u001b[39mlen\u001b[39;49m(sig))\n\u001b[0;32m    943\u001b[0m \u001b[39m# Normalize\u001b[39;00m\n\u001b[0;32m    944\u001b[0m sig \u001b[39m=\u001b[39m util\u001b[39m.\u001b[39mnormalize(sig, norm\u001b[39m=\u001b[39mnorm)\n",
      "File \u001b[1;32mc:\\Users\\Nathaniel\\AppData\\Local\\Programs\\Python\\Python39\\lib\\site-packages\\librosa\\filters.py:423\u001b[0m, in \u001b[0;36m__float_window.<locals>._wrap\u001b[1;34m(n, *args, **kwargs)\u001b[0m\n\u001b[0;32m    420\u001b[0m \u001b[39m\"\"\"The wrapped window\"\"\"\u001b[39;00m\n\u001b[0;32m    421\u001b[0m n_min, n_max \u001b[39m=\u001b[39m \u001b[39mint\u001b[39m(np\u001b[39m.\u001b[39mfloor(n)), \u001b[39mint\u001b[39m(np\u001b[39m.\u001b[39mceil(n))\n\u001b[1;32m--> 423\u001b[0m window \u001b[39m=\u001b[39m get_window(window_spec, n_min)\n\u001b[0;32m    425\u001b[0m \u001b[39mif\u001b[39;00m \u001b[39mlen\u001b[39m(window) \u001b[39m<\u001b[39m n_max:\n\u001b[0;32m    426\u001b[0m     window \u001b[39m=\u001b[39m np\u001b[39m.\u001b[39mpad(window, [(\u001b[39m0\u001b[39m, n_max \u001b[39m-\u001b[39m \u001b[39mlen\u001b[39m(window))], mode\u001b[39m=\u001b[39m\u001b[39m\"\u001b[39m\u001b[39mconstant\u001b[39m\u001b[39m\"\u001b[39m)\n",
      "File \u001b[1;32mc:\\Users\\Nathaniel\\AppData\\Local\\Programs\\Python\\Python39\\lib\\site-packages\\librosa\\util\\decorators.py:88\u001b[0m, in \u001b[0;36mdeprecate_positional_args.<locals>._inner_deprecate_positional_args.<locals>.inner_f\u001b[1;34m(*args, **kwargs)\u001b[0m\n\u001b[0;32m     86\u001b[0m extra_args \u001b[39m=\u001b[39m \u001b[39mlen\u001b[39m(args) \u001b[39m-\u001b[39m \u001b[39mlen\u001b[39m(all_args)\n\u001b[0;32m     87\u001b[0m \u001b[39mif\u001b[39;00m extra_args \u001b[39m<\u001b[39m\u001b[39m=\u001b[39m \u001b[39m0\u001b[39m:\n\u001b[1;32m---> 88\u001b[0m     \u001b[39mreturn\u001b[39;00m f(\u001b[39m*\u001b[39margs, \u001b[39m*\u001b[39m\u001b[39m*\u001b[39mkwargs)\n\u001b[0;32m     90\u001b[0m \u001b[39m# extra_args > 0\u001b[39;00m\n\u001b[0;32m     91\u001b[0m args_msg \u001b[39m=\u001b[39m [\n\u001b[0;32m     92\u001b[0m     \u001b[39m\"\u001b[39m\u001b[39m{}\u001b[39;00m\u001b[39m=\u001b[39m\u001b[39m{}\u001b[39;00m\u001b[39m\"\u001b[39m\u001b[39m.\u001b[39mformat(name, arg)\n\u001b[0;32m     93\u001b[0m     \u001b[39mfor\u001b[39;00m name, arg \u001b[39min\u001b[39;00m \u001b[39mzip\u001b[39m(kwonly_args[:extra_args], args[\u001b[39m-\u001b[39mextra_args:])\n\u001b[0;32m     94\u001b[0m ]\n",
      "File \u001b[1;32mc:\\Users\\Nathaniel\\AppData\\Local\\Programs\\Python\\Python39\\lib\\site-packages\\librosa\\filters.py:1185\u001b[0m, in \u001b[0;36mget_window\u001b[1;34m(window, Nx, fftbins)\u001b[0m\n\u001b[0;32m   1180\u001b[0m     \u001b[39mreturn\u001b[39;00m window(Nx)\n\u001b[0;32m   1182\u001b[0m \u001b[39melif\u001b[39;00m \u001b[39misinstance\u001b[39m(window, (\u001b[39mstr\u001b[39m, \u001b[39mtuple\u001b[39m)) \u001b[39mor\u001b[39;00m np\u001b[39m.\u001b[39misscalar(window):\n\u001b[0;32m   1183\u001b[0m     \u001b[39m# TODO: if we add custom window functions in librosa, call them here\u001b[39;00m\n\u001b[1;32m-> 1185\u001b[0m     \u001b[39mreturn\u001b[39;00m scipy\u001b[39m.\u001b[39;49msignal\u001b[39m.\u001b[39;49mget_window(window, Nx, fftbins\u001b[39m=\u001b[39;49mfftbins)\n\u001b[0;32m   1187\u001b[0m \u001b[39melif\u001b[39;00m \u001b[39misinstance\u001b[39m(window, (np\u001b[39m.\u001b[39mndarray, \u001b[39mlist\u001b[39m)):\n\u001b[0;32m   1188\u001b[0m     \u001b[39mif\u001b[39;00m \u001b[39mlen\u001b[39m(window) \u001b[39m==\u001b[39m Nx:\n",
      "File \u001b[1;32mc:\\Users\\Nathaniel\\AppData\\Local\\Programs\\Python\\Python39\\lib\\site-packages\\scipy\\signal\\windows\\windows.py:2153\u001b[0m, in \u001b[0;36mget_window\u001b[1;34m(window, Nx, fftbins)\u001b[0m\n\u001b[0;32m   2150\u001b[0m     winfunc \u001b[39m=\u001b[39m kaiser\n\u001b[0;32m   2151\u001b[0m     params \u001b[39m=\u001b[39m (Nx, beta, sym)\n\u001b[1;32m-> 2153\u001b[0m \u001b[39mreturn\u001b[39;00m winfunc(\u001b[39m*\u001b[39;49mparams)\n",
      "File \u001b[1;32mc:\\Users\\Nathaniel\\AppData\\Local\\Programs\\Python\\Python39\\lib\\site-packages\\scipy\\signal\\windows\\windows.py:787\u001b[0m, in \u001b[0;36mhann\u001b[1;34m(M, sym)\u001b[0m\n\u001b[0;32m    709\u001b[0m \u001b[39mr\u001b[39m\u001b[39m\"\"\"\u001b[39;00m\n\u001b[0;32m    710\u001b[0m \u001b[39mReturn a Hann window.\u001b[39;00m\n\u001b[0;32m    711\u001b[0m \n\u001b[1;32m   (...)\u001b[0m\n\u001b[0;32m    784\u001b[0m \n\u001b[0;32m    785\u001b[0m \u001b[39m\"\"\"\u001b[39;00m\n\u001b[0;32m    786\u001b[0m \u001b[39m# Docstring adapted from NumPy's hanning function\u001b[39;00m\n\u001b[1;32m--> 787\u001b[0m \u001b[39mreturn\u001b[39;00m general_hamming(M, \u001b[39m0.5\u001b[39;49m, sym)\n",
      "File \u001b[1;32mc:\\Users\\Nathaniel\\AppData\\Local\\Programs\\Python\\Python39\\lib\\site-packages\\scipy\\signal\\windows\\windows.py:1017\u001b[0m, in \u001b[0;36mgeneral_hamming\u001b[1;34m(M, alpha, sym)\u001b[0m\n\u001b[0;32m    933\u001b[0m \u001b[39mdef\u001b[39;00m \u001b[39mgeneral_hamming\u001b[39m(M, alpha, sym\u001b[39m=\u001b[39m\u001b[39mTrue\u001b[39;00m):\n\u001b[0;32m    934\u001b[0m     \u001b[39mr\u001b[39m\u001b[39m\"\"\"Return a generalized Hamming window.\u001b[39;00m\n\u001b[0;32m    935\u001b[0m \n\u001b[0;32m    936\u001b[0m \u001b[39m    The generalized Hamming window is constructed by multiplying a rectangular\u001b[39;00m\n\u001b[1;32m   (...)\u001b[0m\n\u001b[0;32m   1015\u001b[0m \u001b[39m           https://sentinel.esa.int/documents/247904/1877131/Sentinel-1-Product-Definition\u001b[39;00m\n\u001b[0;32m   1016\u001b[0m \u001b[39m    \"\"\"\u001b[39;00m\n\u001b[1;32m-> 1017\u001b[0m     \u001b[39mreturn\u001b[39;00m general_cosine(M, [alpha, \u001b[39m1.\u001b[39;49m \u001b[39m-\u001b[39;49m alpha], sym)\n",
      "File \u001b[1;32mc:\\Users\\Nathaniel\\AppData\\Local\\Programs\\Python\\Python39\\lib\\site-packages\\scipy\\signal\\windows\\windows.py:114\u001b[0m, in \u001b[0;36mgeneral_cosine\u001b[1;34m(M, a, sym)\u001b[0m\n\u001b[0;32m    111\u001b[0m M, needs_trunc \u001b[39m=\u001b[39m _extend(M, sym)\n\u001b[0;32m    113\u001b[0m fac \u001b[39m=\u001b[39m np\u001b[39m.\u001b[39mlinspace(\u001b[39m-\u001b[39mnp\u001b[39m.\u001b[39mpi, np\u001b[39m.\u001b[39mpi, M)\n\u001b[1;32m--> 114\u001b[0m w \u001b[39m=\u001b[39m np\u001b[39m.\u001b[39;49mzeros(M)\n\u001b[0;32m    115\u001b[0m \u001b[39mfor\u001b[39;00m k \u001b[39min\u001b[39;00m \u001b[39mrange\u001b[39m(\u001b[39mlen\u001b[39m(a)):\n\u001b[0;32m    116\u001b[0m     w \u001b[39m+\u001b[39m\u001b[39m=\u001b[39m a[k] \u001b[39m*\u001b[39m np\u001b[39m.\u001b[39mcos(k \u001b[39m*\u001b[39m fac)\n",
      "\u001b[1;31mKeyboardInterrupt\u001b[0m: "
     ]
    }
   ],
   "source": [
    "X, Y = [], []\n",
    "for path, emotion in zip(data_path.Path, data_path.Emotions):\n",
    "    feature = util.get_features(path)\n",
    "    for ele in feature:\n",
    "       X.append(ele)\n",
    "       # appending emotion 3 times as we have made 3 augmentation techniques on each audio file.\n",
    "       Y.append(emotion)"
   ]
  },
  {
   "cell_type": "code",
   "execution_count": null,
   "metadata": {},
   "outputs": [],
   "source": [
    "# save numpy array as npz file\n",
    "\n",
    "# define data\n",
    "data_X = np.asarray(X)\n",
    "# save to npy file\n",
    "np.savez_compressed('data_x.npz', data_X)"
   ]
  },
  {
   "cell_type": "code",
   "execution_count": null,
   "metadata": {},
   "outputs": [],
   "source": [
    "# save numpy array as npz file\n",
    "\n",
    "# define data\n",
    "data_y = np.asarray(Y)\n",
    "# save to npy file\n",
    "np.savez_compressed('data_y.npz', data_y)"
   ]
  }
 ],
 "metadata": {
  "kernelspec": {
   "display_name": "Python 3.9.4 64-bit",
   "language": "python",
   "name": "python3"
  },
  "language_info": {
   "codemirror_mode": {
    "name": "ipython",
    "version": 3
   },
   "file_extension": ".py",
   "mimetype": "text/x-python",
   "name": "python",
   "nbconvert_exporter": "python",
   "pygments_lexer": "ipython3",
   "version": "3.9.4"
  },
  "orig_nbformat": 4,
  "vscode": {
   "interpreter": {
    "hash": "17bdd6bb9216c62c761133b4796a84d9f1192b5d9dd61955e637d74931e0c89a"
   }
  }
 },
 "nbformat": 4,
 "nbformat_minor": 2
}
