{
 "cells": [
  {
   "cell_type": "code",
   "execution_count": 1,
   "metadata": {},
   "outputs": [],
   "source": [
    "# importing necessary modules\n",
    "\n",
    "%load_ext autoreload\n",
    "%autoreload 2\n",
    "import custom_util as util\n",
    "\n",
    "import pandas as pd\n",
    "import numpy as np\n",
    "\n",
    "import sys\n",
    "import warnings\n",
    "if not sys.warnoptions:\n",
    "    warnings.simplefilter(\"ignore\")\n",
    "warnings.filterwarnings(\"ignore\", category=DeprecationWarning)\n"
   ]
  },
  {
   "cell_type": "code",
   "execution_count": 2,
   "metadata": {},
   "outputs": [
    {
     "data": {
      "text/html": [
       "<div>\n",
       "<style scoped>\n",
       "    .dataframe tbody tr th:only-of-type {\n",
       "        vertical-align: middle;\n",
       "    }\n",
       "\n",
       "    .dataframe tbody tr th {\n",
       "        vertical-align: top;\n",
       "    }\n",
       "\n",
       "    .dataframe thead th {\n",
       "        text-align: right;\n",
       "    }\n",
       "</style>\n",
       "<table border=\"1\" class=\"dataframe\">\n",
       "  <thead>\n",
       "    <tr style=\"text-align: right;\">\n",
       "      <th></th>\n",
       "      <th>Emotions</th>\n",
       "      <th>Path</th>\n",
       "    </tr>\n",
       "  </thead>\n",
       "  <tbody>\n",
       "    <tr>\n",
       "      <th>0</th>\n",
       "      <td>angry</td>\n",
       "      <td>c:\\ser\\crema\\AudioWAV\\1001_DFA_ANG_XX.wav</td>\n",
       "    </tr>\n",
       "    <tr>\n",
       "      <th>1</th>\n",
       "      <td>disgust</td>\n",
       "      <td>c:\\ser\\crema\\AudioWAV\\1001_DFA_DIS_XX.wav</td>\n",
       "    </tr>\n",
       "    <tr>\n",
       "      <th>2</th>\n",
       "      <td>fear</td>\n",
       "      <td>c:\\ser\\crema\\AudioWAV\\1001_DFA_FEA_XX.wav</td>\n",
       "    </tr>\n",
       "    <tr>\n",
       "      <th>3</th>\n",
       "      <td>happy</td>\n",
       "      <td>c:\\ser\\crema\\AudioWAV\\1001_DFA_HAP_XX.wav</td>\n",
       "    </tr>\n",
       "    <tr>\n",
       "      <th>4</th>\n",
       "      <td>neutral</td>\n",
       "      <td>c:\\ser\\crema\\AudioWAV\\1001_DFA_NEU_XX.wav</td>\n",
       "    </tr>\n",
       "    <tr>\n",
       "      <th>...</th>\n",
       "      <td>...</td>\n",
       "      <td>...</td>\n",
       "    </tr>\n",
       "    <tr>\n",
       "      <th>12157</th>\n",
       "      <td>surprise</td>\n",
       "      <td>c:\\ser\\surrey\\ALL\\KL_su11.wav</td>\n",
       "    </tr>\n",
       "    <tr>\n",
       "      <th>12158</th>\n",
       "      <td>surprise</td>\n",
       "      <td>c:\\ser\\surrey\\ALL\\KL_su12.wav</td>\n",
       "    </tr>\n",
       "    <tr>\n",
       "      <th>12159</th>\n",
       "      <td>surprise</td>\n",
       "      <td>c:\\ser\\surrey\\ALL\\KL_su13.wav</td>\n",
       "    </tr>\n",
       "    <tr>\n",
       "      <th>12160</th>\n",
       "      <td>surprise</td>\n",
       "      <td>c:\\ser\\surrey\\ALL\\KL_su14.wav</td>\n",
       "    </tr>\n",
       "    <tr>\n",
       "      <th>12161</th>\n",
       "      <td>surprise</td>\n",
       "      <td>c:\\ser\\surrey\\ALL\\KL_su15.wav</td>\n",
       "    </tr>\n",
       "  </tbody>\n",
       "</table>\n",
       "<p>12162 rows × 2 columns</p>\n",
       "</div>"
      ],
      "text/plain": [
       "       Emotions                                       Path\n",
       "0         angry  c:\\ser\\crema\\AudioWAV\\1001_DFA_ANG_XX.wav\n",
       "1       disgust  c:\\ser\\crema\\AudioWAV\\1001_DFA_DIS_XX.wav\n",
       "2          fear  c:\\ser\\crema\\AudioWAV\\1001_DFA_FEA_XX.wav\n",
       "3         happy  c:\\ser\\crema\\AudioWAV\\1001_DFA_HAP_XX.wav\n",
       "4       neutral  c:\\ser\\crema\\AudioWAV\\1001_DFA_NEU_XX.wav\n",
       "...         ...                                        ...\n",
       "12157  surprise              c:\\ser\\surrey\\ALL\\KL_su11.wav\n",
       "12158  surprise              c:\\ser\\surrey\\ALL\\KL_su12.wav\n",
       "12159  surprise              c:\\ser\\surrey\\ALL\\KL_su13.wav\n",
       "12160  surprise              c:\\ser\\surrey\\ALL\\KL_su14.wav\n",
       "12161  surprise              c:\\ser\\surrey\\ALL\\KL_su15.wav\n",
       "\n",
       "[12162 rows x 2 columns]"
      ]
     },
     "execution_count": 2,
     "metadata": {},
     "output_type": "execute_result"
    }
   ],
   "source": [
    "data_path = pd.read_csv('data_path.csv')\n",
    "data_path"
   ]
  },
  {
   "cell_type": "code",
   "execution_count": 3,
   "metadata": {},
   "outputs": [],
   "source": [
    "X, Y = [], []\n",
    "i = 0\n",
    "for path, emotion in zip(data_path.Path, data_path.Emotions):\n",
    "    feature = util.get_features(path)\n",
    "    for ele in feature:\n",
    "       X.append(ele)\n",
    "       # appending emotion 3 times as we have made 3 augmentation techniques on each audio file.\n",
    "       Y.append(emotion)\n",
    "    # break"
   ]
  },
  {
   "cell_type": "code",
   "execution_count": 4,
   "metadata": {},
   "outputs": [],
   "source": [
    "# save numpy array as npz file\n",
    "\n",
    "# define data\n",
    "data_X = np.asarray(X)\n",
    "# save to npy file\n",
    "np.savez_compressed('data_x.npz', data_X)"
   ]
  },
  {
   "cell_type": "code",
   "execution_count": 5,
   "metadata": {},
   "outputs": [],
   "source": [
    "# save numpy array as npz file\n",
    "\n",
    "# define data\n",
    "data_y = np.asarray(Y)\n",
    "# save to npy file\n",
    "np.savez_compressed('data_y.npz', data_y)"
   ]
  }
 ],
 "metadata": {
  "kernelspec": {
   "display_name": "Python 3.10.8 64-bit",
   "language": "python",
   "name": "python3"
  },
  "language_info": {
   "codemirror_mode": {
    "name": "ipython",
    "version": 3
   },
   "file_extension": ".py",
   "mimetype": "text/x-python",
   "name": "python",
   "nbconvert_exporter": "python",
   "pygments_lexer": "ipython3",
   "version": "3.10.8"
  },
  "orig_nbformat": 4,
  "vscode": {
   "interpreter": {
    "hash": "8fb19329e5010b0f2ea79741f44b74baacff1db04befbac2efa3390c8d1db61b"
   }
  }
 },
 "nbformat": 4,
 "nbformat_minor": 2
}
