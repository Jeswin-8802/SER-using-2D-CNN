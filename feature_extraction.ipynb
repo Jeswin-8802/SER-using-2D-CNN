{
 "cells": [
  {
   "cell_type": "code",
   "execution_count": 30,
   "metadata": {},
   "outputs": [],
   "source": [
    "# importing necessary modules\n",
    "\n",
    "import custom_util as util\n",
    "\n",
    "import pandas as pd\n",
    "import numpy as np"
   ]
  },
  {
   "cell_type": "code",
   "execution_count": 31,
   "metadata": {},
   "outputs": [
    {
     "data": {
      "text/html": [
       "<div>\n",
       "<style scoped>\n",
       "    .dataframe tbody tr th:only-of-type {\n",
       "        vertical-align: middle;\n",
       "    }\n",
       "\n",
       "    .dataframe tbody tr th {\n",
       "        vertical-align: top;\n",
       "    }\n",
       "\n",
       "    .dataframe thead th {\n",
       "        text-align: right;\n",
       "    }\n",
       "</style>\n",
       "<table border=\"1\" class=\"dataframe\">\n",
       "  <thead>\n",
       "    <tr style=\"text-align: right;\">\n",
       "      <th></th>\n",
       "      <th>Emotions</th>\n",
       "      <th>Path</th>\n",
       "    </tr>\n",
       "  </thead>\n",
       "  <tbody>\n",
       "    <tr>\n",
       "      <th>0</th>\n",
       "      <td>angry</td>\n",
       "      <td>c:\\Users\\WHNP83\\OneDrive\\Documents\\GitHub\\MAJO...</td>\n",
       "    </tr>\n",
       "    <tr>\n",
       "      <th>1</th>\n",
       "      <td>disgust</td>\n",
       "      <td>c:\\Users\\WHNP83\\OneDrive\\Documents\\GitHub\\MAJO...</td>\n",
       "    </tr>\n",
       "    <tr>\n",
       "      <th>2</th>\n",
       "      <td>fear</td>\n",
       "      <td>c:\\Users\\WHNP83\\OneDrive\\Documents\\GitHub\\MAJO...</td>\n",
       "    </tr>\n",
       "    <tr>\n",
       "      <th>3</th>\n",
       "      <td>happy</td>\n",
       "      <td>c:\\Users\\WHNP83\\OneDrive\\Documents\\GitHub\\MAJO...</td>\n",
       "    </tr>\n",
       "    <tr>\n",
       "      <th>4</th>\n",
       "      <td>neutral</td>\n",
       "      <td>c:\\Users\\WHNP83\\OneDrive\\Documents\\GitHub\\MAJO...</td>\n",
       "    </tr>\n",
       "    <tr>\n",
       "      <th>...</th>\n",
       "      <td>...</td>\n",
       "      <td>...</td>\n",
       "    </tr>\n",
       "    <tr>\n",
       "      <th>12202</th>\n",
       "      <td>surprise</td>\n",
       "      <td>c:\\Users\\WHNP83\\OneDrive\\Documents\\GitHub\\MAJO...</td>\n",
       "    </tr>\n",
       "    <tr>\n",
       "      <th>12203</th>\n",
       "      <td>surprise</td>\n",
       "      <td>c:\\Users\\WHNP83\\OneDrive\\Documents\\GitHub\\MAJO...</td>\n",
       "    </tr>\n",
       "    <tr>\n",
       "      <th>12204</th>\n",
       "      <td>surprise</td>\n",
       "      <td>c:\\Users\\WHNP83\\OneDrive\\Documents\\GitHub\\MAJO...</td>\n",
       "    </tr>\n",
       "    <tr>\n",
       "      <th>12205</th>\n",
       "      <td>surprise</td>\n",
       "      <td>c:\\Users\\WHNP83\\OneDrive\\Documents\\GitHub\\MAJO...</td>\n",
       "    </tr>\n",
       "    <tr>\n",
       "      <th>12206</th>\n",
       "      <td>surprise</td>\n",
       "      <td>c:\\Users\\WHNP83\\OneDrive\\Documents\\GitHub\\MAJO...</td>\n",
       "    </tr>\n",
       "  </tbody>\n",
       "</table>\n",
       "<p>12207 rows × 2 columns</p>\n",
       "</div>"
      ],
      "text/plain": [
       "       Emotions                                               Path\n",
       "0         angry  c:\\Users\\WHNP83\\OneDrive\\Documents\\GitHub\\MAJO...\n",
       "1       disgust  c:\\Users\\WHNP83\\OneDrive\\Documents\\GitHub\\MAJO...\n",
       "2          fear  c:\\Users\\WHNP83\\OneDrive\\Documents\\GitHub\\MAJO...\n",
       "3         happy  c:\\Users\\WHNP83\\OneDrive\\Documents\\GitHub\\MAJO...\n",
       "4       neutral  c:\\Users\\WHNP83\\OneDrive\\Documents\\GitHub\\MAJO...\n",
       "...         ...                                                ...\n",
       "12202  surprise  c:\\Users\\WHNP83\\OneDrive\\Documents\\GitHub\\MAJO...\n",
       "12203  surprise  c:\\Users\\WHNP83\\OneDrive\\Documents\\GitHub\\MAJO...\n",
       "12204  surprise  c:\\Users\\WHNP83\\OneDrive\\Documents\\GitHub\\MAJO...\n",
       "12205  surprise  c:\\Users\\WHNP83\\OneDrive\\Documents\\GitHub\\MAJO...\n",
       "12206  surprise  c:\\Users\\WHNP83\\OneDrive\\Documents\\GitHub\\MAJO...\n",
       "\n",
       "[12207 rows x 2 columns]"
      ]
     },
     "execution_count": 31,
     "metadata": {},
     "output_type": "execute_result"
    }
   ],
   "source": [
    "data_path = pd.read_csv('data_path.csv')\n",
    "data_path"
   ]
  },
  {
   "cell_type": "code",
   "execution_count": 32,
   "metadata": {},
   "outputs": [
    {
     "ename": "NameError",
     "evalue": "name 'librosa' is not defined",
     "output_type": "error",
     "traceback": [
      "\u001b[1;31m---------------------------------------------------------------------------\u001b[0m",
      "\u001b[1;31mNameError\u001b[0m                                 Traceback (most recent call last)",
      "Cell \u001b[1;32mIn [32], line 3\u001b[0m\n\u001b[0;32m      1\u001b[0m X, Y \u001b[39m=\u001b[39m [], []\n\u001b[0;32m      2\u001b[0m \u001b[39mfor\u001b[39;00m path, emotion \u001b[39min\u001b[39;00m \u001b[39mzip\u001b[39m(data_path\u001b[39m.\u001b[39mPath, data_path\u001b[39m.\u001b[39mEmotions):\n\u001b[1;32m----> 3\u001b[0m     feature \u001b[39m=\u001b[39m util\u001b[39m.\u001b[39;49mget_features(path)\n\u001b[0;32m      4\u001b[0m     \u001b[39mfor\u001b[39;00m ele \u001b[39min\u001b[39;00m feature:\n\u001b[0;32m      5\u001b[0m        X\u001b[39m.\u001b[39mappend(ele)\n",
      "File \u001b[1;32mc:\\Users\\WHNP83\\OneDrive\\Documents\\GitHub\\MAJOR_PROJECT\\major-project\\custom_util.py:107\u001b[0m, in \u001b[0;36mget_features\u001b[1;34m(path)\u001b[0m\n\u001b[0;32m    105\u001b[0m \u001b[39mdef\u001b[39;00m \u001b[39mget_features\u001b[39m(path):\n\u001b[0;32m    106\u001b[0m     \u001b[39m# duration and offset are used to take care of the no audio in start and the ending of each audio files as seen above.\u001b[39;00m\n\u001b[1;32m--> 107\u001b[0m     data, sample_rate \u001b[39m=\u001b[39m librosa\u001b[39m.\u001b[39mload(path)\n\u001b[0;32m    109\u001b[0m     \u001b[39m# without augmentation\u001b[39;00m\n\u001b[0;32m    110\u001b[0m     res1 \u001b[39m=\u001b[39m extract_features(data)\n",
      "\u001b[1;31mNameError\u001b[0m: name 'librosa' is not defined"
     ]
    }
   ],
   "source": [
    "X, Y = [], []\n",
    "for path, emotion in zip(data_path.Path, data_path.Emotions):\n",
    "    feature = util.get_features(path)\n",
    "    for ele in feature:\n",
    "       X.append(ele)\n",
    "       # appending emotion 3 times as we have made 3 augmentation techniques on each audio file.\n",
    "       Y.append(emotion)"
   ]
  },
  {
   "cell_type": "code",
   "execution_count": null,
   "metadata": {},
   "outputs": [],
   "source": [
    "# save numpy array as npz file\n",
    "\n",
    "# define data\n",
    "data_X = np.asarray(X)\n",
    "# save to npy file\n",
    "np.savez_compressed('data_x.npz', data_X)"
   ]
  },
  {
   "cell_type": "code",
   "execution_count": null,
   "metadata": {},
   "outputs": [],
   "source": [
    "# save numpy array as npz file\n",
    "\n",
    "# define data\n",
    "data_y = np.asarray(Y)\n",
    "# save to npy file\n",
    "np.savez_compressed('data_y.npz', data_y)"
   ]
  }
 ],
 "metadata": {
  "kernelspec": {
   "display_name": "Python 3.10.8 64-bit",
   "language": "python",
   "name": "python3"
  },
  "language_info": {
   "codemirror_mode": {
    "name": "ipython",
    "version": 3
   },
   "file_extension": ".py",
   "mimetype": "text/x-python",
   "name": "python",
   "nbconvert_exporter": "python",
   "pygments_lexer": "ipython3",
   "version": "3.10.8"
  },
  "orig_nbformat": 4,
  "vscode": {
   "interpreter": {
    "hash": "8fb19329e5010b0f2ea79741f44b74baacff1db04befbac2efa3390c8d1db61b"
   }
  }
 },
 "nbformat": 4,
 "nbformat_minor": 2
}
