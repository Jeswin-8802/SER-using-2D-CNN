{
 "cells": [
  {
   "cell_type": "code",
   "execution_count": null,
   "metadata": {},
   "outputs": [],
   "source": [
    "# importing necessary modules\n",
    "\n",
    "import pandas as pd\n",
    "import numpy as np\n",
    "\n",
    "import keras\n",
    "from keras.callbacks import ReduceLROnPlateau\n",
    "from keras.models import Sequential\n",
    "from keras.layers import Dense, Conv1D, MaxPooling1D, Flatten, Dropout, BatchNormalization\n",
    "from keras.utils import np_utils\n",
    "from tensorflow.keras.utils import to_categorical\n",
    "from keras.callbacks import ModelCheckpoint\n",
    "\n",
    "from sklearn.preprocessing import StandardScaler, OneHotEncoder\n",
    "from sklearn.metrics import confusion_matrix, classification_report\n",
    "from sklearn.model_selection import train_test_split"
   ]
  },
  {
   "cell_type": "markdown",
   "metadata": {},
   "source": [
    "## Get Features data from compressed file"
   ]
  },
  {
   "cell_type": "code",
   "execution_count": null,
   "metadata": {},
   "outputs": [
    {
     "name": "stdout",
     "output_type": "stream",
     "text": [
      "[[ 7.61570786e-02  6.56093121e-01  6.97486043e-01 ... -5.49116870e-02\n",
      "   8.43622550e-03  8.68360564e-03]\n",
      " [ 3.08421125e-01  7.74146830e-01  7.84921267e-01 ... -5.32998237e-02\n",
      "   6.42975885e-03  6.52271166e-04]\n",
      " [ 8.72673717e-02  6.54679716e-01  7.06031144e-01 ... -4.93619013e-02\n",
      "   1.00196785e-02 -1.45468115e-02]\n",
      " ...\n",
      " [ 4.21099154e-02  6.06974602e-01  6.26703024e-01 ... -8.72499610e-03\n",
      "  -2.71237992e-04  8.32928067e-03]\n",
      " [ 7.67161252e-02  6.64062593e-01  7.05808759e-01 ... -1.18949142e-02\n",
      "   1.34713884e-03  1.00048997e-02]\n",
      " [ 4.00004327e-02  5.26626468e-01  5.81800938e-01 ... -1.05777125e-02\n",
      "   1.77729089e-02  6.90816244e-03]]\n"
     ]
    }
   ],
   "source": [
    "# load numpy array from npz file\n",
    "from numpy import load\n",
    "# load dict of arrays\n",
    "dict_data = load('data_x.npz')\n",
    "# extract the first array\n",
    "X = dict_data['arr_0']\n",
    "# print the array\n",
    "print(X)"
   ]
  },
  {
   "cell_type": "code",
   "execution_count": null,
   "metadata": {},
   "outputs": [
    {
     "name": "stdout",
     "output_type": "stream",
     "text": [
      "['angry' 'angry' 'angry' ... 'surprise' 'surprise' 'surprise']\n"
     ]
    }
   ],
   "source": [
    "# load numpy array from npz file\n",
    "from numpy import load\n",
    "# load dict of arrays\n",
    "dict_data = load('data_y.npz')\n",
    "# extract the first array\n",
    "Y = dict_data['arr_0']\n",
    "# print the array\n",
    "print(Y)"
   ]
  },
  {
   "cell_type": "code",
   "execution_count": null,
   "metadata": {},
   "outputs": [
    {
     "data": {
      "text/plain": [
       "((36621, 168), (36621,))"
      ]
     },
     "metadata": {},
     "output_type": "display_data"
    }
   ],
   "source": [
    "X.shape, Y.shape"
   ]
  },
  {
   "cell_type": "code",
   "execution_count": null,
   "metadata": {},
   "outputs": [
    {
     "data": {
      "text/plain": [
       "(36621, 169)"
      ]
     },
     "metadata": {},
     "output_type": "display_data"
    }
   ],
   "source": [
    "Features = pd.DataFrame(X)\n",
    "Features['labels'] = Y\n",
    "\n",
    "Features.shapeFeatures = pd.DataFrame(X)\n",
    "Features['labels'] = Y\n",
    "\n",
    "Features.shape"
   ]
  },
  {
   "cell_type": "code",
   "execution_count": null,
   "metadata": {},
   "outputs": [
    {
     "data": {
      "text/html": [
       "<div>\n",
       "<style scoped>\n",
       "    .dataframe tbody tr th:only-of-type {\n",
       "        vertical-align: middle;\n",
       "    }\n",
       "\n",
       "    .dataframe tbody tr th {\n",
       "        vertical-align: top;\n",
       "    }\n",
       "\n",
       "    .dataframe thead th {\n",
       "        text-align: right;\n",
       "    }\n",
       "</style>\n",
       "<table border=\"1\" class=\"dataframe\">\n",
       "  <thead>\n",
       "    <tr style=\"text-align: right;\">\n",
       "      <th></th>\n",
       "      <th>0</th>\n",
       "      <th>1</th>\n",
       "      <th>2</th>\n",
       "      <th>3</th>\n",
       "      <th>4</th>\n",
       "      <th>5</th>\n",
       "      <th>6</th>\n",
       "      <th>7</th>\n",
       "      <th>8</th>\n",
       "      <th>9</th>\n",
       "      <th>...</th>\n",
       "      <th>159</th>\n",
       "      <th>160</th>\n",
       "      <th>161</th>\n",
       "      <th>162</th>\n",
       "      <th>163</th>\n",
       "      <th>164</th>\n",
       "      <th>165</th>\n",
       "      <th>166</th>\n",
       "      <th>167</th>\n",
       "      <th>labels</th>\n",
       "    </tr>\n",
       "  </thead>\n",
       "  <tbody>\n",
       "    <tr>\n",
       "      <th>0</th>\n",
       "      <td>0.076157</td>\n",
       "      <td>0.656093</td>\n",
       "      <td>0.697486</td>\n",
       "      <td>0.684813</td>\n",
       "      <td>0.680425</td>\n",
       "      <td>0.670918</td>\n",
       "      <td>0.575612</td>\n",
       "      <td>0.571766</td>\n",
       "      <td>0.629165</td>\n",
       "      <td>0.661047</td>\n",
       "      <td>...</td>\n",
       "      <td>6.605648e-14</td>\n",
       "      <td>6.174020e-14</td>\n",
       "      <td>6.174255e-14</td>\n",
       "      <td>0.011220</td>\n",
       "      <td>0.014544</td>\n",
       "      <td>-0.039381</td>\n",
       "      <td>-0.054912</td>\n",
       "      <td>0.008436</td>\n",
       "      <td>0.008684</td>\n",
       "      <td>angry</td>\n",
       "    </tr>\n",
       "    <tr>\n",
       "      <th>1</th>\n",
       "      <td>0.308421</td>\n",
       "      <td>0.774147</td>\n",
       "      <td>0.784921</td>\n",
       "      <td>0.809351</td>\n",
       "      <td>0.821838</td>\n",
       "      <td>0.844925</td>\n",
       "      <td>0.699101</td>\n",
       "      <td>0.638095</td>\n",
       "      <td>0.689210</td>\n",
       "      <td>0.690306</td>\n",
       "      <td>...</td>\n",
       "      <td>7.761280e-03</td>\n",
       "      <td>7.527370e-03</td>\n",
       "      <td>7.440646e-03</td>\n",
       "      <td>0.012350</td>\n",
       "      <td>0.008338</td>\n",
       "      <td>-0.010212</td>\n",
       "      <td>-0.053300</td>\n",
       "      <td>0.006430</td>\n",
       "      <td>0.000652</td>\n",
       "      <td>angry</td>\n",
       "    </tr>\n",
       "    <tr>\n",
       "      <th>2</th>\n",
       "      <td>0.087267</td>\n",
       "      <td>0.654680</td>\n",
       "      <td>0.706031</td>\n",
       "      <td>0.680971</td>\n",
       "      <td>0.661931</td>\n",
       "      <td>0.663260</td>\n",
       "      <td>0.589141</td>\n",
       "      <td>0.585150</td>\n",
       "      <td>0.644148</td>\n",
       "      <td>0.674946</td>\n",
       "      <td>...</td>\n",
       "      <td>7.714200e-10</td>\n",
       "      <td>8.551017e-10</td>\n",
       "      <td>8.551819e-10</td>\n",
       "      <td>-0.034502</td>\n",
       "      <td>-0.012042</td>\n",
       "      <td>0.038216</td>\n",
       "      <td>-0.049362</td>\n",
       "      <td>0.010020</td>\n",
       "      <td>-0.014547</td>\n",
       "      <td>angry</td>\n",
       "    </tr>\n",
       "    <tr>\n",
       "      <th>3</th>\n",
       "      <td>0.068002</td>\n",
       "      <td>0.714656</td>\n",
       "      <td>0.741048</td>\n",
       "      <td>0.658524</td>\n",
       "      <td>0.676285</td>\n",
       "      <td>0.686411</td>\n",
       "      <td>0.614934</td>\n",
       "      <td>0.584842</td>\n",
       "      <td>0.618500</td>\n",
       "      <td>0.691588</td>\n",
       "      <td>...</td>\n",
       "      <td>7.580490e-11</td>\n",
       "      <td>7.497029e-11</td>\n",
       "      <td>7.442415e-11</td>\n",
       "      <td>-0.008231</td>\n",
       "      <td>-0.019454</td>\n",
       "      <td>-0.039172</td>\n",
       "      <td>-0.033343</td>\n",
       "      <td>0.011401</td>\n",
       "      <td>0.004871</td>\n",
       "      <td>disgust</td>\n",
       "    </tr>\n",
       "    <tr>\n",
       "      <th>4</th>\n",
       "      <td>0.186074</td>\n",
       "      <td>0.815682</td>\n",
       "      <td>0.790408</td>\n",
       "      <td>0.783426</td>\n",
       "      <td>0.828106</td>\n",
       "      <td>0.775787</td>\n",
       "      <td>0.670662</td>\n",
       "      <td>0.662607</td>\n",
       "      <td>0.709455</td>\n",
       "      <td>0.764102</td>\n",
       "      <td>...</td>\n",
       "      <td>5.412507e-04</td>\n",
       "      <td>5.651963e-04</td>\n",
       "      <td>5.830280e-04</td>\n",
       "      <td>-0.016078</td>\n",
       "      <td>-0.019964</td>\n",
       "      <td>-0.027505</td>\n",
       "      <td>-0.043751</td>\n",
       "      <td>0.013713</td>\n",
       "      <td>-0.002633</td>\n",
       "      <td>disgust</td>\n",
       "    </tr>\n",
       "  </tbody>\n",
       "</table>\n",
       "<p>5 rows × 169 columns</p>\n",
       "</div>"
      ],
      "text/plain": [
       "          0         1         2         3         4         5         6  \\\n",
       "0  0.076157  0.656093  0.697486  0.684813  0.680425  0.670918  0.575612   \n",
       "1  0.308421  0.774147  0.784921  0.809351  0.821838  0.844925  0.699101   \n",
       "2  0.087267  0.654680  0.706031  0.680971  0.661931  0.663260  0.589141   \n",
       "3  0.068002  0.714656  0.741048  0.658524  0.676285  0.686411  0.614934   \n",
       "4  0.186074  0.815682  0.790408  0.783426  0.828106  0.775787  0.670662   \n",
       "\n",
       "          7         8         9  ...           159           160  \\\n",
       "0  0.571766  0.629165  0.661047  ...  6.605648e-14  6.174020e-14   \n",
       "1  0.638095  0.689210  0.690306  ...  7.761280e-03  7.527370e-03   \n",
       "2  0.585150  0.644148  0.674946  ...  7.714200e-10  8.551017e-10   \n",
       "3  0.584842  0.618500  0.691588  ...  7.580490e-11  7.497029e-11   \n",
       "4  0.662607  0.709455  0.764102  ...  5.412507e-04  5.651963e-04   \n",
       "\n",
       "            161       162       163       164       165       166       167  \\\n",
       "0  6.174255e-14  0.011220  0.014544 -0.039381 -0.054912  0.008436  0.008684   \n",
       "1  7.440646e-03  0.012350  0.008338 -0.010212 -0.053300  0.006430  0.000652   \n",
       "2  8.551819e-10 -0.034502 -0.012042  0.038216 -0.049362  0.010020 -0.014547   \n",
       "3  7.442415e-11 -0.008231 -0.019454 -0.039172 -0.033343  0.011401  0.004871   \n",
       "4  5.830280e-04 -0.016078 -0.019964 -0.027505 -0.043751  0.013713 -0.002633   \n",
       "\n",
       "    labels  \n",
       "0    angry  \n",
       "1    angry  \n",
       "2    angry  \n",
       "3  disgust  \n",
       "4  disgust  \n",
       "\n",
       "[5 rows x 169 columns]"
      ]
     },
     "metadata": {},
     "output_type": "display_data"
    }
   ],
   "source": [
    "Features.head()"
   ]
  },
  {
   "cell_type": "markdown",
   "metadata": {},
   "source": [
    "## Model Training and Testing"
   ]
  },
  {
   "cell_type": "code",
   "execution_count": null,
   "metadata": {},
   "outputs": [],
   "source": [
    "X = Features.iloc[: ,:-1].values\n",
    "Y = Features['labels'].values"
   ]
  },
  {
   "cell_type": "code",
   "execution_count": null,
   "metadata": {},
   "outputs": [],
   "source": [
    "# As this is a multiclass classification problem onehotencoding our Y.\n",
    "encoder = OneHotEncoder()\n",
    "Y = encoder.fit_transform(np.array(Y).reshape(-1,1)).toarray()"
   ]
  },
  {
   "cell_type": "code",
   "execution_count": null,
   "metadata": {},
   "outputs": [
    {
     "data": {
      "text/plain": [
       "((27465, 168), (27465, 8), (9156, 168), (9156, 8))"
      ]
     },
     "metadata": {},
     "output_type": "display_data"
    }
   ],
   "source": [
    "# splitting data\n",
    "x_train, x_test, y_train, y_test = train_test_split(X, Y, random_state=0, shuffle=True)\n",
    "x_train.shape, y_train.shape, x_test.shape, y_test.shape"
   ]
  },
  {
   "cell_type": "code",
   "execution_count": null,
   "metadata": {},
   "outputs": [
    {
     "data": {
      "text/plain": [
       "((27465, 168), (27465, 8), (9156, 168), (9156, 8))"
      ]
     },
     "metadata": {},
     "output_type": "display_data"
    }
   ],
   "source": [
    "# scaling our data with sklearn's Standard scaler\n",
    "scaler = StandardScaler()\n",
    "x_train = scaler.fit_transform(x_train)\n",
    "x_test = scaler.transform(x_test)\n",
    "x_train.shape, y_train.shape, x_test.shape, y_test.shape"
   ]
  },
  {
   "cell_type": "code",
   "execution_count": null,
   "metadata": {},
   "outputs": [
    {
     "data": {
      "text/plain": [
       "((27465, 168, 1), (27465, 8), (9156, 168, 1), (9156, 8))"
      ]
     },
     "metadata": {},
     "output_type": "display_data"
    }
   ],
   "source": [
    "# making our data compatible to model.\n",
    "x_train = np.expand_dims(x_train, axis=2)\n",
    "x_test = np.expand_dims(x_test, axis=2)\n",
    "x_train.shape, y_train.shape, x_test.shape, y_test.shape"
   ]
  },
  {
   "cell_type": "code",
   "execution_count": null,
   "metadata": {},
   "outputs": [
    {
     "name": "stdout",
     "output_type": "stream",
     "text": [
      "Model: \"sequential\"\n",
      "_________________________________________________________________\n",
      " Layer (type)                Output Shape              Param #   \n",
      "=================================================================\n",
      " conv1d (Conv1D)             (None, 168, 256)          1536      \n",
      "                                                                 \n",
      " max_pooling1d (MaxPooling1D  (None, 84, 256)          0         \n",
      " )                                                               \n",
      "                                                                 \n",
      " conv1d_1 (Conv1D)           (None, 84, 256)           327936    \n",
      "                                                                 \n",
      " max_pooling1d_1 (MaxPooling  (None, 42, 256)          0         \n",
      " 1D)                                                             \n",
      "                                                                 \n",
      " conv1d_2 (Conv1D)           (None, 42, 128)           163968    \n",
      "                                                                 \n",
      " max_pooling1d_2 (MaxPooling  (None, 21, 128)          0         \n",
      " 1D)                                                             \n",
      "                                                                 \n",
      " dropout (Dropout)           (None, 21, 128)           0         \n",
      "                                                                 \n",
      " conv1d_3 (Conv1D)           (None, 21, 64)            41024     \n",
      "                                                                 \n",
      " max_pooling1d_3 (MaxPooling  (None, 11, 64)           0         \n",
      " 1D)                                                             \n",
      "                                                                 \n",
      " flatten (Flatten)           (None, 704)               0         \n",
      "                                                                 \n",
      " dense (Dense)               (None, 32)                22560     \n",
      "                                                                 \n",
      " dropout_1 (Dropout)         (None, 32)                0         \n",
      "                                                                 \n",
      " dense_1 (Dense)             (None, 8)                 264       \n",
      "                                                                 \n",
      "=================================================================\n",
      "Total params: 557,288\n",
      "Trainable params: 557,288\n",
      "Non-trainable params: 0\n",
      "_________________________________________________________________\n"
     ]
    }
   ],
   "source": [
    "model=Sequential()\n",
    "model.add(Conv1D(256, kernel_size=5, strides=1, padding='same', activation='relu', input_shape=(x_train.shape[1], 1)))\n",
    "model.add(MaxPooling1D(pool_size=5, strides = 2, padding = 'same'))\n",
    "\n",
    "model.add(Conv1D(256, kernel_size=5, strides=1, padding='same', activation='relu'))\n",
    "model.add(MaxPooling1D(pool_size=5, strides = 2, padding = 'same'))\n",
    "\n",
    "model.add(Conv1D(128, kernel_size=5, strides=1, padding='same', activation='relu'))\n",
    "model.add(MaxPooling1D(pool_size=5, strides = 2, padding = 'same'))\n",
    "model.add(Dropout(0.2))\n",
    "\n",
    "model.add(Conv1D(64, kernel_size=5, strides=1, padding='same', activation='relu'))\n",
    "model.add(MaxPooling1D(pool_size=5, strides = 2, padding = 'same'))\n",
    "\n",
    "model.add(Flatten())\n",
    "model.add(Dense(units=32, activation='relu'))\n",
    "model.add(Dropout(0.3))\n",
    "\n",
    "model.add(Dense(units=8, activation='softmax'))\n",
    "model.compile(optimizer = 'adam' , loss = 'categorical_crossentropy' , metrics = ['accuracy'])\n",
    "\n",
    "model.summary()"
   ]
  },
  {
   "cell_type": "code",
   "execution_count": null,
   "metadata": {},
   "outputs": [
    {
     "name": "stdout",
     "output_type": "stream",
     "text": [
      "Epoch 1/50\n",
      "430/430 [==============================] - 91s 203ms/step - loss: 1.7297 - accuracy: 0.2954 - val_loss: 1.4735 - val_accuracy: 0.3960 - lr: 0.0010\n",
      "Epoch 2/50\n",
      "430/430 [==============================] - 80s 186ms/step - loss: 1.4737 - accuracy: 0.4014 - val_loss: 1.3628 - val_accuracy: 0.4404 - lr: 0.0010\n",
      "Epoch 3/50\n",
      "430/430 [==============================] - 80s 186ms/step - loss: 1.3759 - accuracy: 0.4409 - val_loss: 1.2756 - val_accuracy: 0.4646 - lr: 0.0010\n",
      "Epoch 4/50\n",
      "430/430 [==============================] - 77s 180ms/step - loss: 1.3137 - accuracy: 0.4663 - val_loss: 1.2355 - val_accuracy: 0.4818 - lr: 0.0010\n",
      "Epoch 5/50\n",
      "430/430 [==============================] - 80s 185ms/step - loss: 1.2696 - accuracy: 0.4831 - val_loss: 1.2196 - val_accuracy: 0.5025 - lr: 0.0010\n",
      "Epoch 6/50\n",
      "430/430 [==============================] - 81s 189ms/step - loss: 1.2424 - accuracy: 0.4965 - val_loss: 1.1976 - val_accuracy: 0.5086 - lr: 0.0010\n",
      "Epoch 7/50\n",
      "430/430 [==============================] - 77s 179ms/step - loss: 1.2095 - accuracy: 0.5085 - val_loss: 1.1833 - val_accuracy: 0.5153 - lr: 0.0010\n",
      "Epoch 8/50\n",
      "430/430 [==============================] - 77s 178ms/step - loss: 1.1914 - accuracy: 0.5139 - val_loss: 1.1450 - val_accuracy: 0.5355 - lr: 0.0010\n",
      "Epoch 9/50\n",
      "430/430 [==============================] - 80s 186ms/step - loss: 1.1682 - accuracy: 0.5269 - val_loss: 1.1445 - val_accuracy: 0.5378 - lr: 0.0010\n",
      "Epoch 10/50\n",
      "430/430 [==============================] - 78s 181ms/step - loss: 1.1605 - accuracy: 0.5324 - val_loss: 1.1545 - val_accuracy: 0.5375 - lr: 0.0010\n",
      "Epoch 11/50\n",
      "430/430 [==============================] - 72s 168ms/step - loss: 1.1409 - accuracy: 0.5358 - val_loss: 1.1555 - val_accuracy: 0.5301 - lr: 0.0010\n",
      "Epoch 12/50\n",
      "430/430 [==============================] - 74s 172ms/step - loss: 1.1288 - accuracy: 0.5429 - val_loss: 1.1276 - val_accuracy: 0.5479 - lr: 0.0010\n",
      "Epoch 13/50\n",
      "430/430 [==============================] - 78s 182ms/step - loss: 1.1161 - accuracy: 0.5478 - val_loss: 1.1177 - val_accuracy: 0.5486 - lr: 0.0010\n",
      "Epoch 14/50\n",
      "430/430 [==============================] - 77s 179ms/step - loss: 1.1056 - accuracy: 0.5522 - val_loss: 1.1145 - val_accuracy: 0.5479 - lr: 0.0010\n",
      "Epoch 15/50\n",
      "430/430 [==============================] - 76s 176ms/step - loss: 1.0911 - accuracy: 0.5603 - val_loss: 1.0943 - val_accuracy: 0.5585 - lr: 0.0010\n",
      "Epoch 16/50\n",
      "430/430 [==============================] - 75s 174ms/step - loss: 1.0774 - accuracy: 0.5680 - val_loss: 1.1110 - val_accuracy: 0.5530 - lr: 0.0010\n",
      "Epoch 17/50\n",
      "430/430 [==============================] - 75s 175ms/step - loss: 1.0675 - accuracy: 0.5734 - val_loss: 1.0775 - val_accuracy: 0.5680 - lr: 0.0010\n",
      "Epoch 18/50\n",
      "430/430 [==============================] - 75s 173ms/step - loss: 1.0518 - accuracy: 0.5783 - val_loss: 1.0941 - val_accuracy: 0.5595 - lr: 0.0010\n",
      "Epoch 19/50\n",
      "430/430 [==============================] - 74s 173ms/step - loss: 1.0459 - accuracy: 0.5775 - val_loss: 1.0853 - val_accuracy: 0.5703 - lr: 0.0010\n",
      "Epoch 20/50\n",
      "430/430 [==============================] - 75s 174ms/step - loss: 1.0389 - accuracy: 0.5850 - val_loss: 1.1005 - val_accuracy: 0.5710 - lr: 0.0010\n",
      "Epoch 21/50\n",
      "430/430 [==============================] - 75s 175ms/step - loss: 1.0165 - accuracy: 0.5919 - val_loss: 1.0710 - val_accuracy: 0.5735 - lr: 0.0010\n",
      "Epoch 22/50\n",
      "430/430 [==============================] - 75s 175ms/step - loss: 1.0118 - accuracy: 0.5959 - val_loss: 1.0594 - val_accuracy: 0.5793 - lr: 0.0010\n",
      "Epoch 23/50\n",
      "430/430 [==============================] - 74s 171ms/step - loss: 1.0030 - accuracy: 0.6000 - val_loss: 1.0807 - val_accuracy: 0.5727 - lr: 0.0010\n",
      "Epoch 24/50\n",
      "430/430 [==============================] - 74s 171ms/step - loss: 0.9856 - accuracy: 0.6058 - val_loss: 1.0822 - val_accuracy: 0.5797 - lr: 0.0010\n",
      "Epoch 25/50\n",
      "430/430 [==============================] - 75s 174ms/step - loss: 0.9860 - accuracy: 0.6074 - val_loss: 1.0701 - val_accuracy: 0.5824 - lr: 0.0010\n",
      "Epoch 26/50\n",
      "430/430 [==============================] - 77s 178ms/step - loss: 0.9701 - accuracy: 0.6132 - val_loss: 1.1265 - val_accuracy: 0.5759 - lr: 0.0010\n",
      "Epoch 27/50\n",
      "430/430 [==============================] - 74s 172ms/step - loss: 0.9575 - accuracy: 0.6209 - val_loss: 1.1101 - val_accuracy: 0.5778 - lr: 0.0010\n",
      "Epoch 28/50\n",
      "430/430 [==============================] - 74s 172ms/step - loss: 0.9504 - accuracy: 0.6229 - val_loss: 1.0729 - val_accuracy: 0.5831 - lr: 0.0010\n",
      "Epoch 29/50\n",
      "430/430 [==============================] - 74s 172ms/step - loss: 0.9404 - accuracy: 0.6265 - val_loss: 1.0725 - val_accuracy: 0.5807 - lr: 0.0010\n",
      "Epoch 30/50\n",
      "430/430 [==============================] - 75s 174ms/step - loss: 0.9323 - accuracy: 0.6321 - val_loss: 1.0979 - val_accuracy: 0.5790 - lr: 0.0010\n",
      "Epoch 31/50\n",
      "430/430 [==============================] - 74s 173ms/step - loss: 0.9275 - accuracy: 0.6331 - val_loss: 1.0586 - val_accuracy: 0.5921 - lr: 0.0010\n",
      "Epoch 32/50\n",
      "430/430 [==============================] - 74s 172ms/step - loss: 0.8988 - accuracy: 0.6415 - val_loss: 1.0746 - val_accuracy: 0.5889 - lr: 0.0010\n",
      "Epoch 33/50\n",
      "430/430 [==============================] - 77s 180ms/step - loss: 0.9083 - accuracy: 0.6417 - val_loss: 1.0539 - val_accuracy: 0.5948 - lr: 0.0010\n",
      "Epoch 34/50\n",
      "430/430 [==============================] - 75s 175ms/step - loss: 0.8838 - accuracy: 0.6521 - val_loss: 1.0796 - val_accuracy: 0.5878 - lr: 0.0010\n",
      "Epoch 35/50\n",
      "430/430 [==============================] - 74s 173ms/step - loss: 0.8786 - accuracy: 0.6527 - val_loss: 1.0854 - val_accuracy: 0.5900 - lr: 0.0010\n",
      "Epoch 36/50\n",
      "430/430 [==============================] - 75s 174ms/step - loss: 0.8736 - accuracy: 0.6563 - val_loss: 1.0645 - val_accuracy: 0.5939 - lr: 0.0010\n",
      "Epoch 37/50\n",
      "430/430 [==============================] - 74s 172ms/step - loss: 0.8676 - accuracy: 0.6556 - val_loss: 1.0760 - val_accuracy: 0.5916 - lr: 0.0010\n",
      "Epoch 38/50\n",
      "430/430 [==============================] - 81s 189ms/step - loss: 0.8639 - accuracy: 0.6588 - val_loss: 1.0490 - val_accuracy: 0.6036 - lr: 0.0010\n",
      "Epoch 39/50\n",
      "430/430 [==============================] - 81s 189ms/step - loss: 0.8519 - accuracy: 0.6616 - val_loss: 1.0813 - val_accuracy: 0.5919 - lr: 0.0010\n",
      "Epoch 40/50\n",
      "430/430 [==============================] - 78s 182ms/step - loss: 0.8539 - accuracy: 0.6672 - val_loss: 1.0788 - val_accuracy: 0.5938 - lr: 0.0010\n",
      "Epoch 41/50\n",
      "430/430 [==============================] - 80s 185ms/step - loss: 0.8429 - accuracy: 0.6712 - val_loss: 1.1120 - val_accuracy: 0.5836 - lr: 0.0010\n",
      "Epoch 42/50\n",
      "430/430 [==============================] - 77s 180ms/step - loss: 0.8291 - accuracy: 0.6747 - val_loss: 1.1281 - val_accuracy: 0.5778 - lr: 0.0010\n",
      "Epoch 43/50\n",
      "430/430 [==============================] - 75s 174ms/step - loss: 0.8199 - accuracy: 0.6768 - val_loss: 1.0699 - val_accuracy: 0.5936 - lr: 0.0010\n",
      "Epoch 44/50\n",
      "430/430 [==============================] - 75s 174ms/step - loss: 0.8077 - accuracy: 0.6807 - val_loss: 1.0949 - val_accuracy: 0.6005 - lr: 0.0010\n",
      "Epoch 45/50\n",
      "430/430 [==============================] - 87s 203ms/step - loss: 0.7943 - accuracy: 0.6872 - val_loss: 1.1259 - val_accuracy: 0.5927 - lr: 0.0010\n",
      "Epoch 46/50\n",
      "430/430 [==============================] - 79s 184ms/step - loss: 0.7954 - accuracy: 0.6878 - val_loss: 1.1047 - val_accuracy: 0.5934 - lr: 0.0010\n",
      "Epoch 47/50\n",
      "430/430 [==============================] - 77s 178ms/step - loss: 0.8066 - accuracy: 0.6836 - val_loss: 1.0821 - val_accuracy: 0.5963 - lr: 0.0010\n",
      "Epoch 48/50\n",
      "430/430 [==============================] - 76s 177ms/step - loss: 0.7195 - accuracy: 0.7196 - val_loss: 1.0932 - val_accuracy: 0.6089 - lr: 4.0000e-04\n",
      "Epoch 49/50\n",
      "430/430 [==============================] - 75s 173ms/step - loss: 0.6902 - accuracy: 0.7295 - val_loss: 1.0997 - val_accuracy: 0.6152 - lr: 4.0000e-04\n",
      "Epoch 50/50\n",
      "430/430 [==============================] - 82s 190ms/step - loss: 0.6755 - accuracy: 0.7372 - val_loss: 1.1358 - val_accuracy: 0.6117 - lr: 4.0000e-04\n"
     ]
    }
   ],
   "source": [
    "rlrp = ReduceLROnPlateau(monitor='loss', factor=0.4, verbose=0, patience=2, min_lr=0.0000001)\n",
    "history=model.fit(x_train, y_train, batch_size=64, epochs=50, validation_data=(x_test, y_test), callbacks=[rlrp])"
   ]
  },
  {
   "cell_type": "code",
   "execution_count": null,
   "metadata": {},
   "outputs": [
    {
     "data": {
      "text/plain": [
       "['lstm.pkl']"
      ]
     },
     "metadata": {},
     "output_type": "display_data"
    }
   ],
   "source": [
    "import joblib\n",
    "model_filename = \"lstm.pkl\"\n",
    "joblib.dump(history.history, model_filename)"
   ]
  },
  {
   "cell_type": "code",
   "execution_count": null,
   "metadata": {},
   "outputs": [
    {
     "name": "stdout",
     "output_type": "stream",
     "text": [
      "287/287 [==============================] - 7s 23ms/step - loss: 1.1358 - accuracy: 0.6117\n",
      "Accuracy of our model on test data :  61.173003911972046 %\n"
     ]
    },
    {
     "data": {
      "image/png": "[encoded data removed]",
      "text/plain": [
       "<Figure size 1540x462 with 2 Axes>"
      ]
     },
     "metadata": {},
     "output_type": "display_data"
    }
   ],
   "source": [
    "print(\"Accuracy of our model on test data : \" , model.evaluate(x_test,y_test)[1]*100 , \"%\")\n",
    "\n",
    "epochs = [i for i in range(50)]\n",
    "fig , ax = plt.subplots(1,2)\n",
    "train_acc = history.history['accuracy']\n",
    "train_loss = history.history['loss']\n",
    "test_acc = history.history['val_accuracy']\n",
    "test_loss = history.history['val_loss']\n",
    "\n",
    "fig.set_size_inches(20,6)\n",
    "ax[0].plot(epochs , train_loss , label = 'Training Loss')\n",
    "ax[0].plot(epochs , test_loss , label = 'Testing Loss')\n",
    "ax[0].set_title('Training & Testing Loss')\n",
    "ax[0].legend()\n",
    "ax[0].set_xlabel(\"Epochs\")\n",
    "\n",
    "ax[1].plot(epochs , train_acc , label = 'Training Accuracy')\n",
    "ax[1].plot(epochs , test_acc , label = 'Testing Accuracy')\n",
    "ax[1].set_title('Training & Testing Accuracy')\n",
    "ax[1].legend()\n",
    "ax[1].set_xlabel(\"Epochs\")\n",
    "plt.show()"
   ]
  },
  {
   "cell_type": "code",
   "execution_count": null,
   "metadata": {},
   "outputs": [
    {
     "name": "stdout",
     "output_type": "stream",
     "text": [
      "287/287 [==============================] - 8s 20ms/step\n"
     ]
    }
   ],
   "source": [
    "# predicting on test data.\n",
    "pred_test = model.predict(x_test)\n",
    "y_pred = encoder.inverse_transform(pred_test)\n",
    "\n",
    "y_test = encoder.inverse_transform(y_test)"
   ]
  },
  {
   "cell_type": "code",
   "execution_count": null,
   "metadata": {},
   "outputs": [
    {
     "data": {
      "text/html": [
       "<div>\n",
       "<style scoped>\n",
       "    .dataframe tbody tr th:only-of-type {\n",
       "        vertical-align: middle;\n",
       "    }\n",
       "\n",
       "    .dataframe tbody tr th {\n",
       "        vertical-align: top;\n",
       "    }\n",
       "\n",
       "    .dataframe thead th {\n",
       "        text-align: right;\n",
       "    }\n",
       "</style>\n",
       "<table border=\"1\" class=\"dataframe\">\n",
       "  <thead>\n",
       "    <tr style=\"text-align: right;\">\n",
       "      <th></th>\n",
       "      <th>Predicted Labels</th>\n",
       "      <th>Actual Labels</th>\n",
       "    </tr>\n",
       "  </thead>\n",
       "  <tbody>\n",
       "    <tr>\n",
       "      <th>0</th>\n",
       "      <td>sad</td>\n",
       "      <td>neutral</td>\n",
       "    </tr>\n",
       "    <tr>\n",
       "      <th>1</th>\n",
       "      <td>surprise</td>\n",
       "      <td>surprise</td>\n",
       "    </tr>\n",
       "    <tr>\n",
       "      <th>2</th>\n",
       "      <td>disgust</td>\n",
       "      <td>disgust</td>\n",
       "    </tr>\n",
       "    <tr>\n",
       "      <th>3</th>\n",
       "      <td>angry</td>\n",
       "      <td>angry</td>\n",
       "    </tr>\n",
       "    <tr>\n",
       "      <th>4</th>\n",
       "      <td>disgust</td>\n",
       "      <td>disgust</td>\n",
       "    </tr>\n",
       "    <tr>\n",
       "      <th>5</th>\n",
       "      <td>sad</td>\n",
       "      <td>disgust</td>\n",
       "    </tr>\n",
       "    <tr>\n",
       "      <th>6</th>\n",
       "      <td>angry</td>\n",
       "      <td>angry</td>\n",
       "    </tr>\n",
       "    <tr>\n",
       "      <th>7</th>\n",
       "      <td>disgust</td>\n",
       "      <td>disgust</td>\n",
       "    </tr>\n",
       "    <tr>\n",
       "      <th>8</th>\n",
       "      <td>sad</td>\n",
       "      <td>disgust</td>\n",
       "    </tr>\n",
       "    <tr>\n",
       "      <th>9</th>\n",
       "      <td>sad</td>\n",
       "      <td>sad</td>\n",
       "    </tr>\n",
       "  </tbody>\n",
       "</table>\n",
       "</div>"
      ],
      "text/plain": [
       "  Predicted Labels Actual Labels\n",
       "0              sad       neutral\n",
       "1         surprise      surprise\n",
       "2          disgust       disgust\n",
       "3            angry         angry\n",
       "4          disgust       disgust\n",
       "5              sad       disgust\n",
       "6            angry         angry\n",
       "7          disgust       disgust\n",
       "8              sad       disgust\n",
       "9              sad           sad"
      ]
     },
     "metadata": {},
     "output_type": "display_data"
    }
   ],
   "source": [
    "df = pd.DataFrame(columns=['Predicted Labels', 'Actual Labels'])\n",
    "df['Predicted Labels'] = y_pred.flatten()\n",
    "df['Actual Labels'] = y_test.flatten()\n",
    "\n",
    "df.head(10)"
   ]
  },
  {
   "cell_type": "code",
   "execution_count": null,
   "metadata": {},
   "outputs": [
    {
     "data": {
      "image/png": "[encoded data removed]",
      "text/plain": [
       "<Figure size 924x770 with 2 Axes>"
      ]
     },
     "metadata": {},
     "output_type": "display_data"
    }
   ],
   "source": [
    "cm = confusion_matrix(y_test, y_pred)\n",
    "plt.figure(figsize = (12, 10))\n",
    "cm = pd.DataFrame(cm , index = [i for i in encoder.categories_] , columns = [i for i in encoder.categories_])\n",
    "sns.heatmap(cm, linecolor='white', cmap='Blues', linewidth=1, annot=True, fmt='')\n",
    "plt.title('Confusion Matrix', size=20)\n",
    "plt.xlabel('Predicted Labels', size=14)\n",
    "plt.ylabel('Actual Labels', size=14)\n",
    "plt.show()"
   ]
  },
  {
   "cell_type": "code",
   "execution_count": null,
   "metadata": {},
   "outputs": [
    {
     "name": "stdout",
     "output_type": "stream",
     "text": [
      "              precision    recall  f1-score   support\n",
      "\n",
      "       angry       0.77      0.74      0.75      1418\n",
      "        calm       0.59      0.84      0.69       149\n",
      "     disgust       0.54      0.52      0.53      1469\n",
      "        fear       0.67      0.48      0.56      1462\n",
      "       happy       0.55      0.55      0.55      1482\n",
      "     neutral       0.53      0.62      0.57      1307\n",
      "         sad       0.57      0.68      0.62      1385\n",
      "    surprise       0.85      0.83      0.84       484\n",
      "\n",
      "    accuracy                           0.61      9156\n",
      "   macro avg       0.63      0.66      0.64      9156\n",
      "weighted avg       0.62      0.61      0.61      9156\n",
      "\n"
     ]
    }
   ],
   "source": [
    "print(classification_report(y_test, y_pred))"
   ]
  }
 ],
 "metadata": {
  "kernelspec": {
   "display_name": "Python 3.10.8 64-bit",
   "language": "python",
   "name": "python3"
  },
  "language_info": {
   "name": "python",
   "version": "3.10.8"
  },
  "orig_nbformat": 4,
  "vscode": {
   "interpreter": {
    "hash": "8fb19329e5010b0f2ea79741f44b74baacff1db04befbac2efa3390c8d1db61b"
   }
  }
 },
 "nbformat": 4,
 "nbformat_minor": 2
}
